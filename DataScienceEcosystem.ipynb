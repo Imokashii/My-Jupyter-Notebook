{
 "cells": [
  {
   "cell_type": "markdown",
   "id": "684598cc-0de1-4ed9-8d65-cd945df8c734",
   "metadata": {},
   "source": [
    "<center>\n",
    "    <img src=\"https://cf-courses-data.s3.us.cloud-object-storage.appdomain.cloud/IBMDeveloperSkillsNetwork-DS0105EN-SkillsNetwork/labs/Module2/images/SN_web_lightmode.png\" width=\"300\" alt=\"cognitiveclass.ai logo\">\n",
    "</center>\n"
   ]
  },
  {
   "cell_type": "markdown",
   "id": "f076cdad-27c0-4566-8344-fa53c2ae5080",
   "metadata": {},
   "source": [
    "#### Add your code below following the instructions given in the course\n"
   ]
  },
  {
   "cell_type": "markdown",
   "id": "81d47925-289e-459d-894c-3d2ea672438b",
   "metadata": {
    "tags": []
   },
   "source": [
    "# Data Science Tools and Ecosystem"
   ]
  },
  {
   "cell_type": "markdown",
   "id": "72ef6eed-6d5e-4537-a935-26d5e975724e",
   "metadata": {},
   "source": [
    "### In this notebook, Data Science Tools and Ecosystem are summarized."
   ]
  },
  {
   "cell_type": "markdown",
   "id": "3c336d5e-556d-4204-82e4-cbd29809616b",
   "metadata": {},
   "source": [
    "Some of the popular languages that Data Scientists use are:\n",
    "1. Python \n",
    "2. Julia\n",
    "3. R\n",
    "\n"
   ]
  },
  {
   "cell_type": "markdown",
   "id": "250f7bcc-8db7-4d52-ad00-5de22a785d35",
   "metadata": {
    "tags": []
   },
   "source": [
    "**Objectives**:\n",
    "* Python\n",
    "* SQL\n",
    "* R\n",
    "* Scala\n",
    "* Julia\n"
   ]
  },
  {
   "cell_type": "markdown",
   "id": "b7ee30e0-2c97-4a5d-8928-6c127c384cd9",
   "metadata": {},
   "source": [
    "Some of the commonly used libraries used by Data Scientists include:"
   ]
  },
  {
   "cell_type": "markdown",
   "id": "828b6809-e71f-4a33-bc3c-8886cf97c4cb",
   "metadata": {},
   "source": [
    "1. PyTorch\n",
    "2. NumPy\n",
    "3. Keras\n",
    "4. Plotly"
   ]
  },
  {
   "cell_type": "markdown",
   "id": "828e7bb7-b5d1-4d52-8f12-778f36f2a82a",
   "metadata": {
    "tags": []
   },
   "source": [
    "| Data Science Tools |\n",
    "---------------------\n",
    "| TensorFlow |\n",
    "| Apache Spark|\n",
    "| Jupyter Notebook |"
   ]
  },
  {
   "cell_type": "markdown",
   "id": "e6d4ac73-6a25-485b-8f1d-759052822714",
   "metadata": {
    "tags": []
   },
   "source": [
    "### Below are a few examples of evaluating arithemtic expressions in Python"
   ]
  },
  {
   "cell_type": "code",
   "execution_count": 2,
   "id": "78009d69-1631-469c-8156-fd11d217a2ae",
   "metadata": {
    "tags": []
   },
   "outputs": [
    {
     "data": {
      "text/plain": [
       "17"
      ]
     },
     "execution_count": 2,
     "metadata": {},
     "output_type": "execute_result"
    }
   ],
   "source": [
    "# This is a simple arithmetic expression to multiply then add integers.\n",
    "(3*4)+5"
   ]
  },
  {
   "cell_type": "code",
   "execution_count": 3,
   "id": "c4492815-a64c-4c83-8a19-1eb2e97251e4",
   "metadata": {
    "tags": []
   },
   "outputs": [
    {
     "data": {
      "text/plain": [
       "3.3333333333333335"
      ]
     },
     "execution_count": 3,
     "metadata": {},
     "output_type": "execute_result"
    }
   ],
   "source": [
    "# This will convert 200 mintutes to hours by dividing by 60.\n",
    "200/60"
   ]
  },
  {
   "cell_type": "markdown",
   "id": "a0e9613c-0688-4eff-ae17-d3a7f6501b47",
   "metadata": {
    "tags": []
   },
   "source": [
    " ## Author\n",
    "    Jeremiah Scott\n",
    "    "
   ]
  }
 ],
 "metadata": {
  "kernelspec": {
   "display_name": "Python",
   "language": "python",
   "name": "conda-env-python-py"
  },
  "language_info": {
   "codemirror_mode": {
    "name": "ipython",
    "version": 3
   },
   "file_extension": ".py",
   "mimetype": "text/x-python",
   "name": "python",
   "nbconvert_exporter": "python",
   "pygments_lexer": "ipython3",
   "version": "3.7.12"
  }
 },
 "nbformat": 4,
 "nbformat_minor": 5
}
